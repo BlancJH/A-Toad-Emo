{
  "nbformat": 4,
  "nbformat_minor": 0,
  "metadata": {
    "colab": {
      "provenance": [],
      "authorship_tag": "ABX9TyPV/1xTnEfMDfcwKHwuTEb7",
      "include_colab_link": true
    },
    "kernelspec": {
      "name": "python3",
      "display_name": "Python 3"
    },
    "language_info": {
      "name": "python"
    }
  },
  "cells": [
    {
      "cell_type": "markdown",
      "metadata": {
        "id": "view-in-github",
        "colab_type": "text"
      },
      "source": [
        "<a href=\"https://colab.research.google.com/github/BlancJH/A-Toad-Emo/blob/main/COMP6010_Weekly_Report2_20541165_BAEK_JUNHA.ipynb\" target=\"_parent\"><img src=\"https://colab.research.google.com/assets/colab-badge.svg\" alt=\"Open In Colab\"/></a>"
      ]
    },
    {
      "cell_type": "code",
      "execution_count": null,
      "metadata": {
        "id": "vNEb6wF7hTP7"
      },
      "outputs": [],
      "source": []
    },
    {
      "cell_type": "markdown",
      "source": [
        "#**Weekly Report 2**"
      ],
      "metadata": {
        "id": "gnywIE_RhevD"
      }
    },
    {
      "cell_type": "markdown",
      "source": [
        "## **Question 1.**\n",
        "\n",
        "The correct one is left.\n",
        "The Bayesian Network should not have circular relationships among the nodes.\n",
        "![image.png](data:image/png;base64,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)"
      ],
      "metadata": {
        "id": "NTLDKvgThmzs"
      }
    },
    {
      "cell_type": "markdown",
      "source": [
        "## **Quesetion 2.**"
      ],
      "metadata": {
        "id": "tTDU0MkMhq6d"
      }
    },
    {
      "cell_type": "markdown",
      "source": [
        "### **Compute the probability P(SP=High | IR =Low)**"
      ],
      "metadata": {
        "id": "DVbhRcaIj-_Z"
      }
    },
    {
      "cell_type": "code",
      "source": [
        "# P(OI)\n",
        "P_OI = {\n",
        "    \"Good\": 0.4,\n",
        "    \"Bad\": 0.6\n",
        "}\n",
        "\n",
        "# P(SM | IR)\n",
        "P_SM_given_IR = {\n",
        "    \"High\": {\"Good\": 0.2, \"Bad\": 0.8}, # P(SM|IR=High)\n",
        "    \"Low\": {\"Good\": 0.7, \"Bad\": 0.3} # P(SM|IR=Low)\n",
        "}\n",
        "\n",
        "# P(SP | SM, OI)\n",
        "P_SP_given_SM_OI = {\n",
        "    (\"Good\", \"Good\"): {\"High\": 0.8, \"Low\": 0.2},\n",
        "    (\"Good\", \"Bad\"):  {\"High\": 0.6, \"Low\": 0.4},\n",
        "    (\"Bad\", \"Good\"):  {\"High\": 0.5, \"Low\": 0.5},\n",
        "    (\"Bad\", \"Bad\"):   {\"High\": 0.1, \"Low\": 0.9},\n",
        "}\n"
      ],
      "metadata": {
        "id": "3z6B2ar_j-f5"
      },
      "execution_count": 1,
      "outputs": []
    },
    {
      "cell_type": "code",
      "source": [
        "def p_sp_high_given_ir_low():\n",
        "    result = 0.0\n",
        "\n",
        "    # Loop all possible values of SM\n",
        "    for sm in [\"Good\",\"Bad\"]:\n",
        "        p_sm = P_SM_given_IR[\"Low\"][sm] # Calculate probability of SM given IR = Low\n",
        "\n",
        "        # Loop all possible values of OI\n",
        "        for oi in [\"Good\",\"Bad\"]:\n",
        "            p_oi = P_OI[oi]\n",
        "            p_sp_high = P_SP_given_SM_OI[(sm,oi)][\"High\"] # Calculate probability of SP = High | SM, OI\n",
        "            result += p_sp_high * p_sm * p_oi # Multiply the probabilities and accumulate\n",
        "\n",
        "    return result\n",
        "\n",
        "print(p_sp_high_given_ir_low())\n"
      ],
      "metadata": {
        "colab": {
          "base_uri": "https://localhost:8080/"
        },
        "id": "3Y48O92hrHkl",
        "outputId": "7567ba46-9c00-4bf6-cf06-89fa1e7525fb"
      },
      "execution_count": 4,
      "outputs": [
        {
          "output_type": "stream",
          "name": "stdout",
          "text": [
            "0.554\n"
          ]
        }
      ]
    },
    {
      "cell_type": "markdown",
      "source": [
        "### **Under what conditions, IR and OI are conditionally independent?**"
      ],
      "metadata": {
        "id": "HZTBX9sFznqE"
      }
    },
    {
      "cell_type": "markdown",
      "source": [
        "IR and OI are independant where the condition does not contain SP or its any descendant. This is because the only shared connection between IR and OI is through SP. When there is not SP or its descendant the path is blocked between them."
      ],
      "metadata": {
        "id": "1jjDmO88zxx0"
      }
    },
    {
      "cell_type": "code",
      "source": [],
      "metadata": {
        "id": "FnUrcyNsznZE"
      },
      "execution_count": null,
      "outputs": []
    }
  ]
}